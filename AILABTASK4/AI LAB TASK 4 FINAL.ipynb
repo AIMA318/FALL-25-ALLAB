{
 "cells": [
  {
   "cell_type": "markdown",
   "id": "475f6ad1",
   "metadata": {},
   "source": [
    "Lab 4 Tasks\n",
    "Task 1: Code for LUHN Algorithm"
   ]
  },
  {
   "cell_type": "code",
   "execution_count": 1,
   "id": "331bd591",
   "metadata": {},
   "outputs": [
    {
     "name": "stdout",
     "output_type": "stream",
     "text": [
      "Valid card number\n"
     ]
    }
   ],
   "source": [
    "def luhn_algorithm(card_number):\n",
    "    card_number = card_number.replace(\" \", \"\")  # remove spaces\n",
    "    total = 0\n",
    "    reverse_digits = card_number[::-1]\n",
    "\n",
    "    for i, digit in enumerate(reverse_digits):\n",
    "        n = int(digit)\n",
    "        if i % 2 == 1:  # double every second digit\n",
    "            n *= 2\n",
    "            if n > 9:\n",
    "                n -= 9\n",
    "        total += n\n",
    "\n",
    "    return total % 10 == 0\n",
    "\n",
    "\n",
    "# Example\n",
    "card = \"4539 1488 0343 6467\"\n",
    "if luhn_algorithm(card):\n",
    "    print(\"Valid card number\")\n",
    "else:\n",
    "    print(\"Invalid card number\")\n"
   ]
  },
  {
   "cell_type": "markdown",
   "id": "f23b218e",
   "metadata": {},
   "source": [
    "Task 2: Remove Punctuations from a String"
   ]
  },
  {
   "cell_type": "code",
   "execution_count": 2,
   "id": "1a59ce90",
   "metadata": {},
   "outputs": [
    {
     "name": "stdout",
     "output_type": "stream",
     "text": [
      "After removing punctuations: Hello how are you doing today\n"
     ]
    },
    {
     "name": "stderr",
     "output_type": "stream",
     "text": [
      "<>:2: SyntaxWarning: invalid escape sequence '\\,'\n",
      "<>:2: SyntaxWarning: invalid escape sequence '\\,'\n",
      "C:\\Users\\User\\AppData\\Local\\Temp\\ipykernel_6404\\678304092.py:2: SyntaxWarning: invalid escape sequence '\\,'\n",
      "  punctuations = '''!()-[]{};:'\"\\,<>./?@#$%^&*_~'''\n"
     ]
    }
   ],
   "source": [
    "def remove_punctuations(text):\n",
    "    punctuations = '''!()-[]{};:'\"\\,<>./?@#$%^&*_~'''\n",
    "    result = \"\"\n",
    "    for char in text:\n",
    "        if char not in punctuations:\n",
    "            result += char\n",
    "    return result\n",
    "\n",
    "# Example\n",
    "string = \"Hello!!!, how are you doing today?\"\n",
    "print(\"After removing punctuations:\", remove_punctuations(string))\n"
   ]
  },
  {
   "cell_type": "markdown",
   "id": "56520499",
   "metadata": {},
   "source": [
    "Task 3: Sort a Sentence in Alphabetical Order"
   ]
  },
  {
   "cell_type": "code",
   "execution_count": 3,
   "id": "cbf8f230",
   "metadata": {},
   "outputs": [
    {
     "name": "stdout",
     "output_type": "stream",
     "text": [
      "Alphabetically sorted sentence: Python and easy fun makes programming\n"
     ]
    }
   ],
   "source": [
    "def sort_sentence(sentence):\n",
    "    words = sentence.split()\n",
    "    words.sort()\n",
    "    sorted_sentence = \" \".join(words)\n",
    "    return sorted_sentence\n",
    "\n",
    "# Example\n",
    "sentence = \"Python makes programming fun and easy\"\n",
    "print(\"Alphabetically sorted sentence:\", sort_sentence(sentence))\n"
   ]
  }
 ],
 "metadata": {
  "kernelspec": {
   "display_name": "base",
   "language": "python",
   "name": "python3"
  },
  "language_info": {
   "codemirror_mode": {
    "name": "ipython",
    "version": 3
   },
   "file_extension": ".py",
   "mimetype": "text/x-python",
   "name": "python",
   "nbconvert_exporter": "python",
   "pygments_lexer": "ipython3",
   "version": "3.12.7"
  }
 },
 "nbformat": 4,
 "nbformat_minor": 5
}
