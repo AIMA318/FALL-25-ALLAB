{
 "cells": [
  {
   "cell_type": "markdown",
   "id": "3fba3112",
   "metadata": {},
   "source": [
    "Task 1: BFS without Queue & without Node"
   ]
  },
  {
   "cell_type": "code",
   "execution_count": 5,
   "id": "f899092e",
   "metadata": {},
   "outputs": [
    {
     "name": "stdout",
     "output_type": "stream",
     "text": [
      "BFS Traversal :\n",
      "A B C D E F G "
     ]
    }
   ],
   "source": [
    "graph = {\n",
    "    'A': ['B', 'C'],\n",
    "    'B': ['D', 'E'],\n",
    "    'C': ['F'],\n",
    "    'D': [],\n",
    "    'E': ['G'],\n",
    "    'F': [],\n",
    "    'G': []\n",
    "}\n",
    "\n",
    "def bfs(start):\n",
    "    visited = []\n",
    "    level = [start]\n",
    "\n",
    "    while level:\n",
    "        next_level = []\n",
    "        for node in level:\n",
    "            if node not in visited:\n",
    "                print(node, end=\" \")\n",
    "                visited.append(node)\n",
    "                for neighbor in graph[node]:\n",
    "                    next_level.append(neighbor)\n",
    "        level = next_level\n",
    "\n",
    "print(\"BFS Traversal :\")\n",
    "bfs_without_queue('A')\n"
   ]
  },
  {
   "cell_type": "markdown",
   "id": "df697c08",
   "metadata": {},
   "source": [
    "Task 2: BFS with Queue & Node"
   ]
  },
  {
   "cell_type": "code",
   "execution_count": 6,
   "id": "c16e79b1",
   "metadata": {},
   "outputs": [
    {
     "name": "stdout",
     "output_type": "stream",
     "text": [
      "BFS Traversal :\n",
      "A B C D E F G "
     ]
    }
   ],
   "source": [
    "class Node:\n",
    "    def __init__(self, value):\n",
    "        self.value = value\n",
    "        self.neighbors = []\n",
    "\n",
    "def bfs_with_queue(start_node):\n",
    "    visited = []\n",
    "    queue = [start_node]\n",
    "\n",
    "    while queue:\n",
    "        current = queue.pop(0)\n",
    "        if current not in visited:\n",
    "            print(current.value, end=\" \")\n",
    "            visited.append(current)\n",
    "            for neighbor in current.neighbors:\n",
    "                queue.append(neighbor)\n",
    "\n",
    "# Create nodes\n",
    "A = Node('A')\n",
    "B = Node('B')\n",
    "C = Node('C')\n",
    "D = Node('D')\n",
    "E = Node('E')\n",
    "F = Node('F')\n",
    "G = Node('G')\n",
    "\n",
    "\n",
    "A.neighbors = [B, C]\n",
    "B.neighbors = [D, E]\n",
    "C.neighbors = [F]\n",
    "E.neighbors = [G]\n",
    "\n",
    "\n",
    "print(\"BFS Traversal :\")\n",
    "bfs_with_queue(A)\n"
   ]
  }
 ],
 "metadata": {
  "kernelspec": {
   "display_name": "base",
   "language": "python",
   "name": "python3"
  },
  "language_info": {
   "codemirror_mode": {
    "name": "ipython",
    "version": 3
   },
   "file_extension": ".py",
   "mimetype": "text/x-python",
   "name": "python",
   "nbconvert_exporter": "python",
   "pygments_lexer": "ipython3",
   "version": "3.12.7"
  }
 },
 "nbformat": 4,
 "nbformat_minor": 5
}
