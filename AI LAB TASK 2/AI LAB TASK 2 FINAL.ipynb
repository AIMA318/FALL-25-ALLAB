{
 "cells": [
  {
   "cell_type": "markdown",
   "id": "aeb9e476",
   "metadata": {},
   "source": [
    "MINI PROJECT :1 "
   ]
  },
  {
   "cell_type": "code",
   "execution_count": null,
   "id": "0af96835",
   "metadata": {},
   "outputs": [
    {
     "name": "stdout",
     "output_type": "stream",
     "text": [
      "Welcome to the FizzBuzz Game!\n",
      "Rules:\n",
      "- Say 'Fizz' if number divisible by 3\n",
      "- Say 'Buzz' if number divisible by 5\n",
      "- Say 'Fizz Buzz' if divisible by both 3 and 5\n",
      "- Otherwise, just type the number itself\n",
      "\n",
      "❌ Wrong! The correct answer was: 1\n",
      "Game Over! Your final score: 0/20\n"
     ]
    }
   ],
   "source": [
    "\n",
    "print(\"Welcome to the FizzBuzz Game!\")\n",
    "print(\"Rules:\")\n",
    "print(\"- Say 'Fizz' if number divisible by 3\")\n",
    "print(\"- Say 'Buzz' if number divisible by 5\")\n",
    "print(\"- Say 'Fizz Buzz' if divisible by both 3 and 5\")\n",
    "print(\"- Otherwise, just type the number itself\\n\")\n",
    "\n",
    "number = 1\n",
    "score = 0\n",
    "\n",
    "while number <= 20:   # game runs for first 20 numbers\n",
    "    # Determine correct answer\n",
    "    if number % 3 == 0 and number % 5 == 0:\n",
    "        correct_answer = \"Fizz Buzz\"\n",
    "    elif number % 3 == 0:\n",
    "        correct_answer = \"Fizz\"\n",
    "    elif number % 5 == 0:\n",
    "        correct_answer = \"Buzz\"\n",
    "    else:\n",
    "        correct_answer = str(number)\n",
    "\n",
    "    # Take user input\n",
    "    user_input = input(f\"Your turn for {number}: \").strip()\n",
    "\n",
    "    # Check answer\n",
    "    if user_input.lower() == correct_answer.lower():\n",
    "        print(\"✅ Correct!\\n\")\n",
    "        score += 1\n",
    "        number += 1\n",
    "    else:\n",
    "        print(f\"❌ Wrong! The correct answer was: {correct_answer}\")\n",
    "        break\n",
    "\n",
    "print(f\"Game Over! Your final score: {score}/20\")\n"
   ]
  },
  {
   "cell_type": "markdown",
   "id": "7a09b966",
   "metadata": {},
   "source": [
    "MINI PROJECT : 2 "
   ]
  },
  {
   "cell_type": "code",
   "execution_count": 2,
   "id": "53fe5b65",
   "metadata": {},
   "outputs": [
    {
     "name": "stdout",
     "output_type": "stream",
     "text": [
      " Welcome to the Movie Budget Analyzer!\n",
      "\n",
      "\n",
      "Enter details for movie 1:\n",
      "\n",
      "🎥 Average Movie Budget: $166,687,562.50\n",
      "\n",
      " Movies with higher than average budgets:\n",
      "\n",
      "Pirates of the Caribbean: On Stranger Tides — $379,000,000 (↑ $212,312,438 above average)\n",
      "Avengers: Age of Ultron — $365,000,000 (↑ $198,312,438 above average)\n",
      "Avengers: Endgame — $356,000,000 (↑ $189,312,438 above average)\n",
      "Incredibles 2 — $200,000,000 (↑ $33,312,438 above average)\n",
      "\n",
      " Total movies above average budget: 4\n",
      "\n",
      " Program finished successfully!\n"
     ]
    }
   ],
   "source": [
    "\n",
    "movies = [\n",
    "    (\"Eternal Sunshine of the Spotless Mind\", 20000000),\n",
    "    (\"Memento\", 9000000),\n",
    "    (\"Requiem for a Dream\", 4500000),\n",
    "    (\"Pirates of the Caribbean: On Stranger Tides\", 379000000),\n",
    "    (\"Avengers: Age of Ultron\", 365000000),\n",
    "    (\"Avengers: Endgame\", 356000000),\n",
    "    (\"Incredibles 2\", 200000000)\n",
    "]\n",
    "\n",
    "print(\" Welcome to the Movie Budget Analyzer!\\n\")\n",
    "\n",
    "# ----- OPTIONAL CHALLENGE -----\n",
    "# Allow user to add more movies\n",
    "add_more = input(\"Do you want to add more movies? (yes/no): \").lower()\n",
    "\n",
    "if add_more == \"yes\":\n",
    "    num = int(input(\"How many movies do you want to add? \"))\n",
    "    for i in range(num):\n",
    "        print(f\"\\nEnter details for movie {i+1}:\")\n",
    "        name = input(\"Movie name: \")\n",
    "        budget = int(input(\"Movie budget ($): \"))\n",
    "        movies.append((name, budget))\n",
    "\n",
    "# ----- STEP 1: Calculate the average budget -----\n",
    "total_budget = 0\n",
    "for movie in movies:\n",
    "    total_budget += movie[1]   # add each movie's budget\n",
    "\n",
    "average_budget = total_budget / len(movies)\n",
    "print(f\"\\n🎥 Average Movie Budget: ${average_budget:,.2f}\")\n",
    "\n",
    "# ----- STEP 2: Identify high-budget movies -----\n",
    "print(\"\\n Movies with higher than average budgets:\\n\")\n",
    "count = 0\n",
    "\n",
    "for name, budget in movies:\n",
    "    if budget > average_budget:\n",
    "        difference = budget - average_budget\n",
    "        print(f\"{name} — ${budget:,.0f} (↑ ${difference:,.0f} above average)\")\n",
    "        count += 1\n",
    "\n",
    "# ----- STEP 3: Show summary -----\n",
    "print(f\"\\n Total movies above average budget: {count}\")\n",
    "print(\"\\n Program finished successfully!\")\n"
   ]
  }
 ],
 "metadata": {
  "kernelspec": {
   "display_name": "Python 3",
   "language": "python",
   "name": "python3"
  },
  "language_info": {
   "codemirror_mode": {
    "name": "ipython",
    "version": 3
   },
   "file_extension": ".py",
   "mimetype": "text/x-python",
   "name": "python",
   "nbconvert_exporter": "python",
   "pygments_lexer": "ipython3",
   "version": "3.13.1"
  }
 },
 "nbformat": 4,
 "nbformat_minor": 5
}
