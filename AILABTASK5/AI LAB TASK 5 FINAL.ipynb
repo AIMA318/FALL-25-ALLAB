{
 "cells": [
  {
   "cell_type": "markdown",
   "id": "675b87a8",
   "metadata": {},
   "source": [
    "Task 1: DFS using Stack and Node"
   ]
  },
  {
   "cell_type": "code",
   "execution_count": 1,
   "id": "9fba33b3",
   "metadata": {},
   "outputs": [
    {
     "name": "stdout",
     "output_type": "stream",
     "text": [
      "DFS Traversal using Stack:\n",
      "A B D E G C F "
     ]
    }
   ],
   "source": [
    "graph = {\n",
    "    'A': ['B', 'C'],\n",
    "    'B': ['D', 'E'],\n",
    "    'C': ['F'],\n",
    "    'D': [],\n",
    "    'E': ['G'],\n",
    "    'F': [],\n",
    "    'G': []\n",
    "}\n",
    "\n",
    "def dfs_stack(start_node):\n",
    "    visited = []\n",
    "    stack = [start_node]\n",
    "\n",
    "    while stack:\n",
    "        node = stack.pop()  # remove last element (LIFO)\n",
    "        if node not in visited:\n",
    "            print(node, end=\" \")\n",
    "            visited.append(node)\n",
    "            for neighbor in reversed(graph[node]):\n",
    "                stack.append(neighbor)\n",
    "\n",
    "print(\"DFS Traversal using Stack:\")\n",
    "dfs_stack('A')\n"
   ]
  },
  {
   "cell_type": "markdown",
   "id": "d51a1b10",
   "metadata": {},
   "source": [
    "Task 2 – DFS Traversals: Inorder, Preorder, and Postorder"
   ]
  },
  {
   "cell_type": "code",
   "execution_count": null,
   "id": "8b73e751",
   "metadata": {},
   "outputs": [
    {
     "name": "stdout",
     "output_type": "stream",
     "text": [
      "Inorder Traversal:\n",
      "D B E A F C G \n",
      "Preorder Traversal:\n",
      "A B D E C F G \n",
      "Postorder Traversal:\n",
      "D E B F G C A "
     ]
    }
   ],
   "source": [
    "\n",
    "class Node:\n",
    "    def __init__(self, value):\n",
    "        self.value = value\n",
    "        self.left = None\n",
    "        self.right = None\n",
    "def inorder(root):\n",
    "    if root:\n",
    "        inorder(root.left)\n",
    "        print(root.value, end=\" \")\n",
    "        inorder(root.right)\n",
    "def preorder(root):\n",
    "    if root:\n",
    "        print(root.value, end=\" \")\n",
    "        preorder(root.left)\n",
    "        preorder(root.right)\n",
    "def postorder(root):\n",
    "    if root:\n",
    "        postorder(root.left)\n",
    "        postorder(root.right)\n",
    "        print(root.value, end=\" \")\n",
    "root = Node('A')\n",
    "root.left = Node('B')\n",
    "root.right = Node('C')\n",
    "root.left.left = Node('D')\n",
    "root.left.right = Node('E')\n",
    "root.right.left = Node('F')\n",
    "root.right.right = Node('G')\n",
    "\n",
    "print(\"Inorder Traversal:\")\n",
    "inorder(root)\n",
    "print(\"\\nPreorder Traversal:\")\n",
    "preorder(root)\n",
    "print(\"\\nPostorder Traversal:\")\n",
    "postorder(root)\n"
   ]
  }
 ],
 "metadata": {
  "kernelspec": {
   "display_name": "base",
   "language": "python",
   "name": "python3"
  },
  "language_info": {
   "codemirror_mode": {
    "name": "ipython",
    "version": 3
   },
   "file_extension": ".py",
   "mimetype": "text/x-python",
   "name": "python",
   "nbconvert_exporter": "python",
   "pygments_lexer": "ipython3",
   "version": "3.12.7"
  }
 },
 "nbformat": 4,
 "nbformat_minor": 5
}
